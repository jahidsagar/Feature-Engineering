{
 "cells": [
  {
   "cell_type": "markdown",
   "id": "fd71a52d",
   "metadata": {},
   "source": [
    "Part 1: Upsample and Downsample"
   ]
  },
  {
   "cell_type": "code",
   "execution_count": 3,
   "id": "e10e0ab6",
   "metadata": {},
   "outputs": [],
   "source": [
    "import pandas as pd\n",
    "import numpy as np\n",
    "\n",
    "np.random.seed(42)"
   ]
  },
  {
   "cell_type": "markdown",
   "id": "a70c219e",
   "metadata": {},
   "source": [
    "Making sample size for class 0 (900) and class 1 (100)"
   ]
  },
  {
   "cell_type": "code",
   "execution_count": 4,
   "id": "a2315d60",
   "metadata": {},
   "outputs": [
    {
     "data": {
      "text/plain": [
       "(900, 100)"
      ]
     },
     "execution_count": 4,
     "metadata": {},
     "output_type": "execute_result"
    }
   ],
   "source": [
    "n_samples = 1000\n",
    "\n",
    "class_0_ration = 0.9\n",
    "class_0 = int(n_samples * class_0_ration)\n",
    "class_1 = n_samples - class_0\n",
    "class_0, class_1"
   ]
  },
  {
   "cell_type": "markdown",
   "id": "0c859cda",
   "metadata": {},
   "source": [
    "for np.random.normal(): https://numpy.org/doc/2.1/reference/random/generated/numpy.random.normal.html "
   ]
  },
  {
   "cell_type": "markdown",
   "id": "301d40ea",
   "metadata": {},
   "source": [
    "Making data frame using pandas and numpy"
   ]
  },
  {
   "cell_type": "code",
   "execution_count": 5,
   "id": "c896e089",
   "metadata": {},
   "outputs": [
    {
     "data": {
      "text/plain": [
       "((900, 3), (100, 3))"
      ]
     },
     "execution_count": 5,
     "metadata": {},
     "output_type": "execute_result"
    }
   ],
   "source": [
    "df_class_0 = pd.DataFrame({\n",
    "    'feature_1': np.random.normal(loc=0, scale=1, size=class_0),\n",
    "    'feature_2': np.random.normal(loc=0, scale=1, size=class_0),\n",
    "    'label': 0\n",
    "})\n",
    "\n",
    "df_class_1 = pd.DataFrame({\n",
    "    'feature_1': np.random.normal(loc=1, scale=1, size=class_1),\n",
    "    'feature_2': np.random.normal(loc=1, scale=1, size=class_1),\n",
    "    'label': 1\n",
    "})\n",
    "df_class_0.shape, df_class_1.shape"
   ]
  },
  {
   "cell_type": "markdown",
   "id": "5f96aa4c",
   "metadata": {},
   "source": [
    "Combining two dataset"
   ]
  },
  {
   "cell_type": "code",
   "execution_count": 17,
   "id": "12103308",
   "metadata": {},
   "outputs": [
    {
     "data": {
      "text/plain": [
       "(     feature_1  feature_2  label\n",
       " 131   0.068563  -1.668584      0\n",
       " 528   0.259723  -0.221254      0\n",
       " 915   0.108808   0.457326      1\n",
       " 376   0.872321   2.319330      0\n",
       " 110  -1.918771   1.317394      0,\n",
       "    feature_1  feature_2  label\n",
       " 0   0.496714   0.368673      0\n",
       " 1  -0.138264  -0.393339      0\n",
       " 2   0.647689   0.028745      0\n",
       " 3   1.523030   1.278452      0\n",
       " 4  -0.234153   0.191099      0)"
      ]
     },
     "execution_count": 17,
     "metadata": {},
     "output_type": "execute_result"
    }
   ],
   "source": [
    "df = pd.concat([df_class_0, df_class_1], ignore_index=True)\n",
    "# df = pd.concat([df_class_0, df_class_1]).reset_index(drop=True)\n",
    "df.sample(5), df.head(5)"
   ]
  },
  {
   "cell_type": "code",
   "execution_count": 11,
   "id": "6069e46d",
   "metadata": {},
   "outputs": [
    {
     "data": {
      "text/plain": [
       "(array([0, 1]),\n",
       " label\n",
       " 0    900\n",
       " 1    100\n",
       " Name: count, dtype: int64)"
      ]
     },
     "execution_count": 11,
     "metadata": {},
     "output_type": "execute_result"
    }
   ],
   "source": [
    "# get unique labels\n",
    "df['label'].unique(), df['label'].value_counts()"
   ]
  },
  {
   "cell_type": "markdown",
   "id": "fca3f6dd",
   "metadata": {},
   "source": [
    "Now split majority and minority"
   ]
  },
  {
   "cell_type": "code",
   "execution_count": 19,
   "id": "3a2d6a2e",
   "metadata": {},
   "outputs": [
    {
     "data": {
      "text/plain": [
       "(900, 100)"
      ]
     },
     "execution_count": 19,
     "metadata": {},
     "output_type": "execute_result"
    }
   ],
   "source": [
    "df_majority = df[df['label'] == 0]\n",
    "df_minority = df[df['label'] == 1]\n",
    "len(df_majority), len(df_minority)"
   ]
  },
  {
   "cell_type": "markdown",
   "id": "e27fd105",
   "metadata": {},
   "source": [
    "the resample() function inside sklearn.utils, so importing this library"
   ]
  },
  {
   "cell_type": "code",
   "execution_count": 20,
   "id": "639a89b2",
   "metadata": {},
   "outputs": [],
   "source": [
    "from sklearn.utils import resample"
   ]
  },
  {
   "cell_type": "markdown",
   "id": "3150991a",
   "metadata": {},
   "source": [
    "upsample"
   ]
  },
  {
   "cell_type": "code",
   "execution_count": 26,
   "id": "179715b2",
   "metadata": {},
   "outputs": [],
   "source": [
    "df_upsample_minority = resample(\n",
    "    df_minority,\n",
    "    replace = True,  \n",
    "    n_samples = len(df_majority)\n",
    ")"
   ]
  },
  {
   "cell_type": "code",
   "execution_count": 24,
   "id": "b1710405",
   "metadata": {},
   "outputs": [
    {
     "data": {
      "text/html": [
       "<div>\n",
       "<style scoped>\n",
       "    .dataframe tbody tr th:only-of-type {\n",
       "        vertical-align: middle;\n",
       "    }\n",
       "\n",
       "    .dataframe tbody tr th {\n",
       "        vertical-align: top;\n",
       "    }\n",
       "\n",
       "    .dataframe thead th {\n",
       "        text-align: right;\n",
       "    }\n",
       "</style>\n",
       "<table border=\"1\" class=\"dataframe\">\n",
       "  <thead>\n",
       "    <tr style=\"text-align: right;\">\n",
       "      <th></th>\n",
       "      <th>feature_1</th>\n",
       "      <th>feature_2</th>\n",
       "      <th>label</th>\n",
       "    </tr>\n",
       "  </thead>\n",
       "  <tbody>\n",
       "    <tr>\n",
       "      <th>956</th>\n",
       "      <td>2.392465</td>\n",
       "      <td>-1.135674</td>\n",
       "      <td>1</td>\n",
       "    </tr>\n",
       "    <tr>\n",
       "      <th>948</th>\n",
       "      <td>1.969457</td>\n",
       "      <td>2.126050</td>\n",
       "      <td>1</td>\n",
       "    </tr>\n",
       "    <tr>\n",
       "      <th>947</th>\n",
       "      <td>0.133825</td>\n",
       "      <td>0.970737</td>\n",
       "      <td>1</td>\n",
       "    </tr>\n",
       "    <tr>\n",
       "      <th>971</th>\n",
       "      <td>0.785079</td>\n",
       "      <td>-1.940389</td>\n",
       "      <td>1</td>\n",
       "    </tr>\n",
       "    <tr>\n",
       "      <th>948</th>\n",
       "      <td>1.969457</td>\n",
       "      <td>2.126050</td>\n",
       "      <td>1</td>\n",
       "    </tr>\n",
       "    <tr>\n",
       "      <th>...</th>\n",
       "      <td>...</td>\n",
       "      <td>...</td>\n",
       "      <td>...</td>\n",
       "    </tr>\n",
       "    <tr>\n",
       "      <th>977</th>\n",
       "      <td>0.790778</td>\n",
       "      <td>1.947526</td>\n",
       "      <td>1</td>\n",
       "    </tr>\n",
       "    <tr>\n",
       "      <th>961</th>\n",
       "      <td>1.810808</td>\n",
       "      <td>1.285554</td>\n",
       "      <td>1</td>\n",
       "    </tr>\n",
       "    <tr>\n",
       "      <th>934</th>\n",
       "      <td>0.387563</td>\n",
       "      <td>3.644343</td>\n",
       "      <td>1</td>\n",
       "    </tr>\n",
       "    <tr>\n",
       "      <th>912</th>\n",
       "      <td>2.612221</td>\n",
       "      <td>1.638051</td>\n",
       "      <td>1</td>\n",
       "    </tr>\n",
       "    <tr>\n",
       "      <th>934</th>\n",
       "      <td>0.387563</td>\n",
       "      <td>3.644343</td>\n",
       "      <td>1</td>\n",
       "    </tr>\n",
       "  </tbody>\n",
       "</table>\n",
       "<p>900 rows × 3 columns</p>\n",
       "</div>"
      ],
      "text/plain": [
       "     feature_1  feature_2  label\n",
       "956   2.392465  -1.135674      1\n",
       "948   1.969457   2.126050      1\n",
       "947   0.133825   0.970737      1\n",
       "971   0.785079  -1.940389      1\n",
       "948   1.969457   2.126050      1\n",
       "..         ...        ...    ...\n",
       "977   0.790778   1.947526      1\n",
       "961   1.810808   1.285554      1\n",
       "934   0.387563   3.644343      1\n",
       "912   2.612221   1.638051      1\n",
       "934   0.387563   3.644343      1\n",
       "\n",
       "[900 rows x 3 columns]"
      ]
     },
     "execution_count": 24,
     "metadata": {},
     "output_type": "execute_result"
    }
   ],
   "source": [
    "df_upsample_minority"
   ]
  },
  {
   "cell_type": "markdown",
   "id": "c4f82e33",
   "metadata": {},
   "source": [
    "down sample"
   ]
  },
  {
   "cell_type": "code",
   "execution_count": 25,
   "id": "2ad16a7d",
   "metadata": {},
   "outputs": [
    {
     "data": {
      "text/html": [
       "<div>\n",
       "<style scoped>\n",
       "    .dataframe tbody tr th:only-of-type {\n",
       "        vertical-align: middle;\n",
       "    }\n",
       "\n",
       "    .dataframe tbody tr th {\n",
       "        vertical-align: top;\n",
       "    }\n",
       "\n",
       "    .dataframe thead th {\n",
       "        text-align: right;\n",
       "    }\n",
       "</style>\n",
       "<table border=\"1\" class=\"dataframe\">\n",
       "  <thead>\n",
       "    <tr style=\"text-align: right;\">\n",
       "      <th></th>\n",
       "      <th>feature_1</th>\n",
       "      <th>feature_2</th>\n",
       "      <th>label</th>\n",
       "    </tr>\n",
       "  </thead>\n",
       "  <tbody>\n",
       "    <tr>\n",
       "      <th>516</th>\n",
       "      <td>0.500917</td>\n",
       "      <td>0.057013</td>\n",
       "      <td>0</td>\n",
       "    </tr>\n",
       "    <tr>\n",
       "      <th>529</th>\n",
       "      <td>-0.904317</td>\n",
       "      <td>-0.276813</td>\n",
       "      <td>0</td>\n",
       "    </tr>\n",
       "    <tr>\n",
       "      <th>809</th>\n",
       "      <td>-0.894607</td>\n",
       "      <td>-0.974529</td>\n",
       "      <td>0</td>\n",
       "    </tr>\n",
       "    <tr>\n",
       "      <th>337</th>\n",
       "      <td>-0.321386</td>\n",
       "      <td>-0.553588</td>\n",
       "      <td>0</td>\n",
       "    </tr>\n",
       "    <tr>\n",
       "      <th>457</th>\n",
       "      <td>-1.035242</td>\n",
       "      <td>0.391804</td>\n",
       "      <td>0</td>\n",
       "    </tr>\n",
       "    <tr>\n",
       "      <th>...</th>\n",
       "      <td>...</td>\n",
       "      <td>...</td>\n",
       "      <td>...</td>\n",
       "    </tr>\n",
       "    <tr>\n",
       "      <th>224</th>\n",
       "      <td>-0.471932</td>\n",
       "      <td>1.633432</td>\n",
       "      <td>0</td>\n",
       "    </tr>\n",
       "    <tr>\n",
       "      <th>414</th>\n",
       "      <td>0.332314</td>\n",
       "      <td>0.010353</td>\n",
       "      <td>0</td>\n",
       "    </tr>\n",
       "    <tr>\n",
       "      <th>763</th>\n",
       "      <td>-0.096060</td>\n",
       "      <td>-0.607822</td>\n",
       "      <td>0</td>\n",
       "    </tr>\n",
       "    <tr>\n",
       "      <th>13</th>\n",
       "      <td>-1.913280</td>\n",
       "      <td>1.577453</td>\n",
       "      <td>0</td>\n",
       "    </tr>\n",
       "    <tr>\n",
       "      <th>89</th>\n",
       "      <td>0.513267</td>\n",
       "      <td>0.026886</td>\n",
       "      <td>0</td>\n",
       "    </tr>\n",
       "  </tbody>\n",
       "</table>\n",
       "<p>100 rows × 3 columns</p>\n",
       "</div>"
      ],
      "text/plain": [
       "     feature_1  feature_2  label\n",
       "516   0.500917   0.057013      0\n",
       "529  -0.904317  -0.276813      0\n",
       "809  -0.894607  -0.974529      0\n",
       "337  -0.321386  -0.553588      0\n",
       "457  -1.035242   0.391804      0\n",
       "..         ...        ...    ...\n",
       "224  -0.471932   1.633432      0\n",
       "414   0.332314   0.010353      0\n",
       "763  -0.096060  -0.607822      0\n",
       "13   -1.913280   1.577453      0\n",
       "89    0.513267   0.026886      0\n",
       "\n",
       "[100 rows x 3 columns]"
      ]
     },
     "execution_count": 25,
     "metadata": {},
     "output_type": "execute_result"
    }
   ],
   "source": [
    "df_downsample_majority = resample(\n",
    "    df_majority,\n",
    "    replace = False,  # sample with replacement\n",
    "    n_samples = len(df_minority)\n",
    ")\n",
    "df_downsample_majority"
   ]
  },
  {
   "cell_type": "markdown",
   "id": "379f4e31",
   "metadata": {},
   "source": [
    "We make upsample for minority data and downsample for majority data to understand how it works."
   ]
  }
 ],
 "metadata": {
  "kernelspec": {
   "display_name": "cudaEnv",
   "language": "python",
   "name": "python3"
  },
  "language_info": {
   "codemirror_mode": {
    "name": "ipython",
    "version": 3
   },
   "file_extension": ".py",
   "mimetype": "text/x-python",
   "name": "python",
   "nbconvert_exporter": "python",
   "pygments_lexer": "ipython3",
   "version": "3.11.11"
  }
 },
 "nbformat": 4,
 "nbformat_minor": 5
}

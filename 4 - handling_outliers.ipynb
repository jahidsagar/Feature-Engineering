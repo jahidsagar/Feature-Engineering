{
 "cells": [
  {
   "cell_type": "code",
   "execution_count": 1,
   "id": "dca61351",
   "metadata": {},
   "outputs": [],
   "source": [
    "import pandas as pd\n",
    "import numpy as np\n",
    "import matplotlib.pyplot as plt\n",
    "import seaborn as sns"
   ]
  },
  {
   "cell_type": "code",
   "execution_count": 18,
   "id": "b22fb772",
   "metadata": {},
   "outputs": [],
   "source": [
    "# random data with outliers\n",
    "data = [105, 57, 54, 58, 56, 57, 59, 60, 58, 57, 56, 55, 100]"
   ]
  },
  {
   "cell_type": "markdown",
   "id": "a27badaa",
   "metadata": {},
   "source": [
    "Method 1: Draw the data\n",
    "\n",
    "outliers always stays in a random place or alone."
   ]
  },
  {
   "cell_type": "code",
   "execution_count": 19,
   "id": "6011f3e6",
   "metadata": {},
   "outputs": [
    {
     "data": {
      "text/plain": [
       "<matplotlib.collections.PathCollection at 0x1ecbf22b4d0>"
      ]
     },
     "execution_count": 19,
     "metadata": {},
     "output_type": "execute_result"
    },
    {
     "data": {
      "image/png": "[encoded data removed]",
      "text/plain": [
       "<Figure size 640x480 with 1 Axes>"
      ]
     },
     "metadata": {},
     "output_type": "display_data"
    }
   ],
   "source": [
    "plt.scatter(range(len(data)),data)"
   ]
  },
  {
   "cell_type": "code",
   "execution_count": 20,
   "id": "7c53959e",
   "metadata": {},
   "outputs": [
    {
     "data": {
      "text/plain": [
       "<Axes: >"
      ]
     },
     "execution_count": 20,
     "metadata": {},
     "output_type": "execute_result"
    },
    {
     "data": {
      "image/png": "[encoded data removed]",
      "text/plain": [
       "<Figure size 640x480 with 1 Axes>"
      ]
     },
     "metadata": {},
     "output_type": "display_data"
    }
   ],
   "source": [
    "sns.scatterplot(x=range(len(data)), y=data)"
   ]
  },
  {
   "cell_type": "markdown",
   "id": "9f708753",
   "metadata": {},
   "source": [
    "Method 2: Sort the data\n",
    "\n",
    "after sorting the outliers most of the time stay at the begining or ending "
   ]
  },
  {
   "cell_type": "code",
   "execution_count": 27,
   "id": "72d85814",
   "metadata": {},
   "outputs": [
    {
     "name": "stdout",
     "output_type": "stream",
     "text": [
      "[54, 55, 56, 56, 57, 57, 57, 58, 58, 59, 60, 100, 105]\n"
     ]
    }
   ],
   "source": [
    "sorted_data = sorted(data) # data.sort(), this method is in-place and does not return a new list\n",
    "print(sorted_data)"
   ]
  },
  {
   "cell_type": "markdown",
   "id": "bee6d18d",
   "metadata": {},
   "source": [
    "Method 3: Z-Score\n",
    "\n",
    "for more: https://www.machinelearningplus.com/machine-learning/how-to-detect-outliers-with-z-score/"
   ]
  },
  {
   "cell_type": "code",
   "execution_count": 36,
   "id": "7b89bc61",
   "metadata": {},
   "outputs": [
    {
     "name": "stdout",
     "output_type": "stream",
     "text": [
      "[100, 105]\n"
     ]
    }
   ],
   "source": [
    "threshold = 2 # threshold for outlier detection, let threshold is 2 for this case\n",
    "mean = np.mean(sorted_data)\n",
    "std_dev = np.std(sorted_data)\n",
    "outliers = [x for x in sorted_data if (x < mean - threshold * std_dev) or (x > mean + threshold * std_dev)]\n",
    "print(outliers)"
   ]
  },
  {
   "cell_type": "markdown",
   "id": "7f0e8ee2",
   "metadata": {},
   "source": [
    "Method 4: IQR"
   ]
  },
  {
   "cell_type": "code",
   "execution_count": 37,
   "id": "c5ae7e6d",
   "metadata": {},
   "outputs": [
    {
     "data": {
      "text/plain": [
       "(np.float64(54.0),\n",
       " np.float64(56.0),\n",
       " np.float64(57.0),\n",
       " np.float64(59.0),\n",
       " np.float64(105.0))"
      ]
     },
     "execution_count": 37,
     "metadata": {},
     "output_type": "execute_result"
    }
   ],
   "source": [
    "min, q1, median, q3, max = np.percentile(sorted_data, [0, 25, 50, 75, 100])\n",
    "min, q1, median, q3, max"
   ]
  },
  {
   "cell_type": "code",
   "execution_count": 38,
   "id": "663804f4",
   "metadata": {},
   "outputs": [
    {
     "data": {
      "text/plain": [
       "np.float64(3.0)"
      ]
     },
     "execution_count": 38,
     "metadata": {},
     "output_type": "execute_result"
    }
   ],
   "source": [
    "IQR = q3 - q1\n",
    "IQR"
   ]
  },
  {
   "cell_type": "code",
   "execution_count": 39,
   "id": "f98b193b",
   "metadata": {},
   "outputs": [
    {
     "data": {
      "text/plain": [
       "(np.float64(51.5), np.float64(63.5))"
      ]
     },
     "execution_count": 39,
     "metadata": {},
     "output_type": "execute_result"
    }
   ],
   "source": [
    "lower_fence = q1 - 1.5 * IQR\n",
    "upper_fence = q3 + 1.5 * IQR\n",
    "lower_fence, upper_fence"
   ]
  },
  {
   "cell_type": "code",
   "execution_count": 40,
   "id": "584360dc",
   "metadata": {},
   "outputs": [
    {
     "data": {
      "text/plain": [
       "[100, 105]"
      ]
     },
     "execution_count": 40,
     "metadata": {},
     "output_type": "execute_result"
    }
   ],
   "source": [
    "# now identifying outliers\n",
    "outliers = [x for x in sorted_data if (x < lower_fence) or (x > upper_fence)]\n",
    "outliers"
   ]
  }
 ],
 "metadata": {
  "kernelspec": {
   "display_name": "cudaEnv",
   "language": "python",
   "name": "python3"
  },
  "language_info": {
   "codemirror_mode": {
    "name": "ipython",
    "version": 3
   },
   "file_extension": ".py",
   "mimetype": "text/x-python",
   "name": "python",
   "nbconvert_exporter": "python",
   "pygments_lexer": "ipython3",
   "version": "3.11.11"
  }
 },
 "nbformat": 4,
 "nbformat_minor": 5
}

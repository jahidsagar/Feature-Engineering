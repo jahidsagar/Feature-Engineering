{
 "cells": [
  {
   "cell_type": "markdown",
   "id": "c06db136",
   "metadata": {},
   "source": [
    "In label enccoding, we have already seen that, the unique numbers give priority above others. For example, friday - 0, saturday-1, and thursday-2, here we put value based on alphabetic order but thursday gets more priority then others. So that we can use Ordinal Encoding where we need priority. \n",
    "\n",
    "For example, a person completed his Phd now we can put values like\n",
    "```\n",
    "primary school - 0\n",
    "high school - 1\n",
    "higher secondary school - 2\n",
    "bsc - 3\n",
    "msc - 4\n",
    "phd - 5\n",
    "```\n",
    "Here, Ordinal encoding play vital role.\n"
   ]
  },
  {
   "cell_type": "code",
   "execution_count": 3,
   "id": "ce7d7707",
   "metadata": {},
   "outputs": [],
   "source": [
    "from sklearn.preprocessing import OrdinalEncoder\n",
    "import seaborn as sns\n",
    "import matplotlib.pyplot as plt\n",
    "import pandas as pd\n",
    "import numpy as np"
   ]
  },
  {
   "cell_type": "markdown",
   "id": "efb006bc",
   "metadata": {},
   "source": [
    "Create list"
   ]
  },
  {
   "cell_type": "code",
   "execution_count": 5,
   "id": "18b28bc6",
   "metadata": {},
   "outputs": [
    {
     "data": {
      "text/plain": [
       "['PhD', 'Masters', 'Bachelors', 'High School', 'Primary School']"
      ]
     },
     "execution_count": 5,
     "metadata": {},
     "output_type": "execute_result"
    }
   ],
   "source": [
    "education = ['PhD', 'Masters', 'Bachelors', 'High School', 'Primary School']\n",
    "education"
   ]
  },
  {
   "cell_type": "markdown",
   "id": "160569d8",
   "metadata": {},
   "source": [
    "Now making data frame from that list"
   ]
  },
  {
   "cell_type": "code",
   "execution_count": 6,
   "id": "23fad6ba",
   "metadata": {},
   "outputs": [
    {
     "data": {
      "text/html": [
       "<div>\n",
       "<style scoped>\n",
       "    .dataframe tbody tr th:only-of-type {\n",
       "        vertical-align: middle;\n",
       "    }\n",
       "\n",
       "    .dataframe tbody tr th {\n",
       "        vertical-align: top;\n",
       "    }\n",
       "\n",
       "    .dataframe thead th {\n",
       "        text-align: right;\n",
       "    }\n",
       "</style>\n",
       "<table border=\"1\" class=\"dataframe\">\n",
       "  <thead>\n",
       "    <tr style=\"text-align: right;\">\n",
       "      <th></th>\n",
       "      <th>education</th>\n",
       "    </tr>\n",
       "  </thead>\n",
       "  <tbody>\n",
       "    <tr>\n",
       "      <th>0</th>\n",
       "      <td>PhD</td>\n",
       "    </tr>\n",
       "    <tr>\n",
       "      <th>1</th>\n",
       "      <td>Masters</td>\n",
       "    </tr>\n",
       "    <tr>\n",
       "      <th>2</th>\n",
       "      <td>Bachelors</td>\n",
       "    </tr>\n",
       "    <tr>\n",
       "      <th>3</th>\n",
       "      <td>High School</td>\n",
       "    </tr>\n",
       "    <tr>\n",
       "      <th>4</th>\n",
       "      <td>Primary School</td>\n",
       "    </tr>\n",
       "  </tbody>\n",
       "</table>\n",
       "</div>"
      ],
      "text/plain": [
       "        education\n",
       "0             PhD\n",
       "1         Masters\n",
       "2       Bachelors\n",
       "3     High School\n",
       "4  Primary School"
      ]
     },
     "execution_count": 6,
     "metadata": {},
     "output_type": "execute_result"
    }
   ],
   "source": [
    "df = pd.DataFrame(education, columns = ['education'])\n",
    "df"
   ]
  },
  {
   "cell_type": "code",
   "execution_count": 8,
   "id": "e57e7307",
   "metadata": {},
   "outputs": [
    {
     "data": {
      "text/html": [
       "<div>\n",
       "<style scoped>\n",
       "    .dataframe tbody tr th:only-of-type {\n",
       "        vertical-align: middle;\n",
       "    }\n",
       "\n",
       "    .dataframe tbody tr th {\n",
       "        vertical-align: top;\n",
       "    }\n",
       "\n",
       "    .dataframe thead th {\n",
       "        text-align: right;\n",
       "    }\n",
       "</style>\n",
       "<table border=\"1\" class=\"dataframe\">\n",
       "  <thead>\n",
       "    <tr style=\"text-align: right;\">\n",
       "      <th></th>\n",
       "      <th>education</th>\n",
       "      <th>education_encoded</th>\n",
       "    </tr>\n",
       "  </thead>\n",
       "  <tbody>\n",
       "    <tr>\n",
       "      <th>0</th>\n",
       "      <td>PhD</td>\n",
       "      <td>4.0</td>\n",
       "    </tr>\n",
       "    <tr>\n",
       "      <th>1</th>\n",
       "      <td>Masters</td>\n",
       "      <td>3.0</td>\n",
       "    </tr>\n",
       "    <tr>\n",
       "      <th>2</th>\n",
       "      <td>Bachelors</td>\n",
       "      <td>2.0</td>\n",
       "    </tr>\n",
       "    <tr>\n",
       "      <th>3</th>\n",
       "      <td>High School</td>\n",
       "      <td>1.0</td>\n",
       "    </tr>\n",
       "    <tr>\n",
       "      <th>4</th>\n",
       "      <td>Primary School</td>\n",
       "      <td>0.0</td>\n",
       "    </tr>\n",
       "  </tbody>\n",
       "</table>\n",
       "</div>"
      ],
      "text/plain": [
       "        education  education_encoded\n",
       "0             PhD                4.0\n",
       "1         Masters                3.0\n",
       "2       Bachelors                2.0\n",
       "3     High School                1.0\n",
       "4  Primary School                0.0"
      ]
     },
     "execution_count": 8,
     "metadata": {},
     "output_type": "execute_result"
    }
   ],
   "source": [
    "enc = OrdinalEncoder(categories=[education[::-1]]) # reverse the order\n",
    "df['education_encoded'] = enc.fit_transform(df[['education']])\n",
    "df\n"
   ]
  },
  {
   "cell_type": "markdown",
   "id": "e32c795c",
   "metadata": {},
   "source": [
    "Plot figure to visually see the priority"
   ]
  },
  {
   "cell_type": "code",
   "execution_count": 9,
   "id": "1b6f51c6",
   "metadata": {},
   "outputs": [
    {
     "data": {
      "text/plain": [
       "Text(0.5, 1.0, 'Ordinal Encoding of Education Levels')"
      ]
     },
     "execution_count": 9,
     "metadata": {},
     "output_type": "execute_result"
    },
    {
     "data": {
      "image/png": "[encoded data removed]",
      "text/plain": [
       "<Figure size 640x480 with 1 Axes>"
      ]
     },
     "metadata": {},
     "output_type": "display_data"
    }
   ],
   "source": [
    "sns.barplot(x='education', y='education_encoded', data=df)\n",
    "plt.title('Ordinal Encoding of Education Levels')"
   ]
  }
 ],
 "metadata": {
  "kernelspec": {
   "display_name": "cudaEnv",
   "language": "python",
   "name": "python3"
  },
  "language_info": {
   "codemirror_mode": {
    "name": "ipython",
    "version": 3
   },
   "file_extension": ".py",
   "mimetype": "text/x-python",
   "name": "python",
   "nbconvert_exporter": "python",
   "pygments_lexer": "ipython3",
   "version": "3.11.11"
  }
 },
 "nbformat": 4,
 "nbformat_minor": 5
}
